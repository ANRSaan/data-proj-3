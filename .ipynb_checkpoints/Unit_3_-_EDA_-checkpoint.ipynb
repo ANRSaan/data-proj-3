{
 "cells": [
  {
   "cell_type": "markdown",
   "id": "baa2d43d",
   "metadata": {},
   "source": [
    "# Unit 3 Project - Exploratory Data Analysis"
   ]
  },
  {
   "cell_type": "markdown",
   "id": "9a087192",
   "metadata": {},
   "source": [
    "## Part 1 - Univariate Analysis - Visualization"
   ]
  },
  {
   "cell_type": "markdown",
   "id": "cd658876",
   "metadata": {},
   "source": [
    "### Step 1 - Open Jupyter Notebook in New Virtual Environment"
   ]
  },
  {
   "cell_type": "markdown",
   "id": "40926806",
   "metadata": {},
   "source": [
    "###### This step should have been completed prior to opening the Jupyter Notebook. If it was not, create and activate your virtual environment, then restart your notebook within the venv. "
   ]
  },
  {
   "cell_type": "markdown",
   "id": "0f4e500c",
   "metadata": {},
   "source": [
    "### Step 2 - Load DataFrame and Explore Dataset"
   ]
  },
  {
   "cell_type": "code",
   "execution_count": 1,
   "id": "383bdc9e",
   "metadata": {},
   "outputs": [],
   "source": [
    "################################### TO DO #########################################\n",
    "####### FOLLOW PROJECT INSTRUCTIONS TO COMPLETE THIS STEP IN THE CELLS BELOW ######"
   ]
  },
  {
   "cell_type": "code",
   "execution_count": 2,
   "id": "b19e33b1",
   "metadata": {},
   "outputs": [],
   "source": [
    "# import pandas and numpy\n",
    "import pandas as pd\n",
    "import numpy as np"
   ]
  },
  {
   "cell_type": "code",
   "execution_count": 3,
   "id": "9d6ad281",
   "metadata": {},
   "outputs": [],
   "source": [
    "# load salary.csv into dataframe\n",
    "salary_df = pd.read_csv(\"salary.csv\")"
   ]
  },
  {
   "cell_type": "code",
   "execution_count": 4,
   "id": "a48c191a",
   "metadata": {},
   "outputs": [
    {
     "data": {
      "text/html": [
       "<div>\n",
       "<style scoped>\n",
       "    .dataframe tbody tr th:only-of-type {\n",
       "        vertical-align: middle;\n",
       "    }\n",
       "\n",
       "    .dataframe tbody tr th {\n",
       "        vertical-align: top;\n",
       "    }\n",
       "\n",
       "    .dataframe thead th {\n",
       "        text-align: right;\n",
       "    }\n",
       "</style>\n",
       "<table border=\"1\" class=\"dataframe\">\n",
       "  <thead>\n",
       "    <tr style=\"text-align: right;\">\n",
       "      <th></th>\n",
       "      <th>age</th>\n",
       "      <th>gender</th>\n",
       "      <th>education</th>\n",
       "      <th>industry</th>\n",
       "      <th>industry_experience</th>\n",
       "      <th>salary</th>\n",
       "    </tr>\n",
       "  </thead>\n",
       "  <tbody>\n",
       "    <tr>\n",
       "      <th>0</th>\n",
       "      <td>19</td>\n",
       "      <td>Male</td>\n",
       "      <td>high school</td>\n",
       "      <td>business</td>\n",
       "      <td>0</td>\n",
       "      <td>33640.60752</td>\n",
       "    </tr>\n",
       "    <tr>\n",
       "      <th>1</th>\n",
       "      <td>21</td>\n",
       "      <td>Male</td>\n",
       "      <td>high school</td>\n",
       "      <td>business</td>\n",
       "      <td>2</td>\n",
       "      <td>43554.24216</td>\n",
       "    </tr>\n",
       "    <tr>\n",
       "      <th>2</th>\n",
       "      <td>19</td>\n",
       "      <td>Male</td>\n",
       "      <td>high school</td>\n",
       "      <td>business</td>\n",
       "      <td>0</td>\n",
       "      <td>39795.29424</td>\n",
       "    </tr>\n",
       "    <tr>\n",
       "      <th>3</th>\n",
       "      <td>22</td>\n",
       "      <td>Male</td>\n",
       "      <td>high school</td>\n",
       "      <td>business</td>\n",
       "      <td>1</td>\n",
       "      <td>51102.98856</td>\n",
       "    </tr>\n",
       "    <tr>\n",
       "      <th>4</th>\n",
       "      <td>21</td>\n",
       "      <td>Male</td>\n",
       "      <td>high school</td>\n",
       "      <td>business</td>\n",
       "      <td>1</td>\n",
       "      <td>32809.57056</td>\n",
       "    </tr>\n",
       "  </tbody>\n",
       "</table>\n",
       "</div>"
      ],
      "text/plain": [
       "   age gender    education  industry  industry_experience       salary\n",
       "0   19   Male  high school  business                    0  33640.60752\n",
       "1   21   Male  high school  business                    2  43554.24216\n",
       "2   19   Male  high school  business                    0  39795.29424\n",
       "3   22   Male  high school  business                    1  51102.98856\n",
       "4   21   Male  high school  business                    1  32809.57056"
      ]
     },
     "execution_count": 4,
     "metadata": {},
     "output_type": "execute_result"
    }
   ],
   "source": [
    "# look at first few values of dataframe\n",
    "salary_df.head()"
   ]
  },
  {
   "cell_type": "code",
   "execution_count": 5,
   "id": "327799c9",
   "metadata": {},
   "outputs": [
    {
     "name": "stdout",
     "output_type": "stream",
     "text": [
      "<class 'pandas.core.frame.DataFrame'>\n",
      "RangeIndex: 25439 entries, 0 to 25438\n",
      "Data columns (total 6 columns):\n",
      " #   Column               Non-Null Count  Dtype  \n",
      "---  ------               --------------  -----  \n",
      " 0   age                  25439 non-null  int64  \n",
      " 1   gender               25439 non-null  object \n",
      " 2   education            25439 non-null  object \n",
      " 3   industry             25439 non-null  object \n",
      " 4   industry_experience  25439 non-null  int64  \n",
      " 5   salary               25439 non-null  float64\n",
      "dtypes: float64(1), int64(2), object(3)\n",
      "memory usage: 1.2+ MB\n"
     ]
    }
   ],
   "source": [
    "# look at basic dataframe info\n",
    "salary_df.info()"
   ]
  },
  {
   "cell_type": "markdown",
   "id": "7a9748f6",
   "metadata": {},
   "source": [
    "### Step 3 - Review Types of Basic Univariate Plots"
   ]
  },
  {
   "cell_type": "code",
   "execution_count": 6,
   "id": "de134166",
   "metadata": {},
   "outputs": [],
   "source": [
    "################################### TO DO #########################################\n",
    "####### FOLLOW PROJECT INSTRUCTIONS TO COMPLETE THIS STEP IN THE CELLS BELOW ######"
   ]
  },
  {
   "cell_type": "markdown",
   "id": "88e02be3",
   "metadata": {},
   "source": [
    "#### Fill in blanks with a brief description of each plot type:\n",
    "\n",
    "  \n",
    "- Histogram\n",
    "> Used to show numerical frequency as a distribution, shown as a collection of bars\n",
    "- Density Plot / KDE\n",
    "> Similar to a histogram, but shown a smooth line estimating the data\n",
    "- Bar Chart\n",
    "> A collection of bars on a numeric scale, each showing the relationship of itself vs the others\n",
    "- Line Plot\n",
    "> Similar to a scatter plot, a line plot joins the various data points with a line, and is ordered\n",
    "- Univariate scatter plot\n",
    "> This displays the values of single variables plotted on a chart in respect to a second value\n",
    "- Violin Plot\n",
    "> Similar to a box plot, but also has characteristics of a kernal density plot, and is used to show the distribution of numerical data\n",
    "- Box Plot\n",
    "> Used to show the spread of your data\n",
    "- Pie Chart\n",
    "> Used to show distribution of nominal or ordinal data\n",
    "- Rug Plot\n",
    "> Used to show distribution density -- the closer together the ticks are, the more dense the data points around that value\n"
   ]
  },
  {
   "cell_type": "markdown",
   "id": "643f91a7",
   "metadata": {},
   "source": [
    "### Step 4 - Choose Which Plot(s) You Will Use for Each Variable"
   ]
  },
  {
   "cell_type": "code",
   "execution_count": 7,
   "id": "1a551ee5",
   "metadata": {},
   "outputs": [],
   "source": [
    "################################### TO DO #########################################\n",
    "####### FOLLOW PROJECT INSTRUCTIONS TO COMPLETE THIS STEP IN THE CELLS BELOW ######"
   ]
  },
  {
   "cell_type": "markdown",
   "id": "82f93c8f",
   "metadata": {},
   "source": [
    "#### Take a moment to plan what types of plots you will make for each variable  \n",
    "  \n",
    "  \n",
    "- age\n",
    "> Histogram\n",
    "- gender\n",
    "> Pie Chart\n",
    "- education\n",
    "> Bar Chart\n",
    "- industry\n",
    "> Pie Chart\n",
    "- industry experience\n",
    "> Violin Plot\n",
    "- salary\n",
    "> Density Plot"
   ]
  },
  {
   "cell_type": "markdown",
   "id": "1f60f546",
   "metadata": {},
   "source": [
    "### Step 5 - Create Plots for Each Variable in Dataset"
   ]
  },
  {
   "cell_type": "code",
   "execution_count": 8,
   "id": "2104cf8c",
   "metadata": {},
   "outputs": [],
   "source": [
    "# import seaborn\n",
    "\n",
    "import seaborn as sns\n",
    "\n",
    "# set standard plot type as seaborn plot\n",
    "sns.set()\n",
    "\n",
    "# import matplotlib\n",
    "import matplotlib.pyplot as plt\n",
    "\n",
    "# write command for plots to appear in jupyter cells automatically\n",
    "%matplotlib inline\n"
   ]
  },
  {
   "cell_type": "code",
   "execution_count": 9,
   "id": "7303b321",
   "metadata": {},
   "outputs": [],
   "source": [
    "################################### TO DO #########################################\n",
    "####### FOLLOW PROJECT INSTRUCTIONS TO COMPLETE THIS STEP IN THE CELLS BELOW ######"
   ]
  },
  {
   "cell_type": "markdown",
   "id": "ff6feb62",
   "metadata": {},
   "source": [
    "### Plot for 'age' column"
   ]
  },
  {
   "cell_type": "code",
   "execution_count": 10,
   "id": "32d5f3e6",
   "metadata": {
    "scrolled": false
   },
   "outputs": [
    {
     "data": {
      "text/plain": [
       "(array([ 841., 1153., 2214., 2984., 2867., 2932., 3187., 3226., 3201.,\n",
       "        2834.]),\n",
       " array([18. , 22.9, 27.8, 32.7, 37.6, 42.5, 47.4, 52.3, 57.2, 62.1, 67. ]),\n",
       " <BarContainer object of 10 artists>)"
      ]
     },
     "execution_count": 10,
     "metadata": {},
     "output_type": "execute_result"
    },
    {
     "data": {
      "image/png": "[encoded data removed]",
      "text/plain": [
       "<Figure size 640x480 with 1 Axes>"
      ]
     },
     "metadata": {},
     "output_type": "display_data"
    }
   ],
   "source": [
    "# create plot for age column\n",
    "plt.hist(salary_df[\"age\"])"
   ]
  },
  {
   "cell_type": "markdown",
   "id": "91b9a16c",
   "metadata": {},
   "source": [
    "##### Insights:\n",
    "\n",
    "Age is commonly 35+, dopping off dramatically below this.  Age is somewhat consistant after 35, peaking at the 55 area."
   ]
  },
  {
   "cell_type": "markdown",
   "id": "8a7eb9f7",
   "metadata": {},
   "source": [
    "### Plot for 'industry' column"
   ]
  },
  {
   "cell_type": "code",
   "execution_count": 11,
   "id": "f5a96b94",
   "metadata": {},
   "outputs": [
    {
     "data": {
      "text/plain": [
       "array(['business', 'finance', 'technology', 'healthcare'], dtype=object)"
      ]
     },
     "execution_count": 11,
     "metadata": {},
     "output_type": "execute_result"
    }
   ],
   "source": [
    "salary_df.industry.unique()"
   ]
  },
  {
   "cell_type": "code",
   "execution_count": 12,
   "id": "8e42ae95",
   "metadata": {
    "scrolled": false
   },
   "outputs": [
    {
     "data": {
      "text/plain": [
       "([<matplotlib.patches.Wedge at 0x7f90ba555c30>,\n",
       "  <matplotlib.patches.Wedge at 0x7f90ba556350>,\n",
       "  <matplotlib.patches.Wedge at 0x7f90ba556a70>,\n",
       "  <matplotlib.patches.Wedge at 0x7f90ba557190>],\n",
       " [Text(0.7755809464303959, 0.7800475597898705, 'business'),\n",
       "  Text(-0.7843932195215907, 0.7711856308104774, 'finance'),\n",
       "  Text(-0.7683228880848887, -0.7871975226364066, 'technology'),\n",
       "  Text(0.7828679043291481, -0.7727340062216027, 'healthcare')],\n",
       " [Text(0.4230441525983977, 0.42548048715811115, '25.09%'),\n",
       "  Text(-0.42785084701177667, 0.42064670771480583, '25.09%'),\n",
       "  Text(-0.4190852116826665, -0.4293804668925854, '25.03%'),\n",
       "  Text(0.427018856906808, -0.42149127612087417, '24.79%')])"
      ]
     },
     "execution_count": 12,
     "metadata": {},
     "output_type": "execute_result"
    },
    {
     "data": {
      "image/png": "[encoded data removed]",
      "text/plain": [
       "<Figure size 640x480 with 1 Axes>"
      ]
     },
     "metadata": {},
     "output_type": "display_data"
    }
   ],
   "source": [
    "# create plot for industry column\n",
    "plt.pie(salary_df[\"industry\"].value_counts(), \n",
    "        labels = [\"business\", \"finance\", \"technology\", \"healthcare\"], autopct=\"%1.2f%%\")"
   ]
  },
  {
   "cell_type": "markdown",
   "id": "3c42c49c",
   "metadata": {},
   "source": [
    "##### Insights:\n",
    "\n",
    "Samples seem to be fairly uniform throughout the four different industry types represented, at an almost even 25% each."
   ]
  },
  {
   "cell_type": "markdown",
   "id": "d377bb4b",
   "metadata": {},
   "source": [
    "### Plot for 'salary' column"
   ]
  },
  {
   "cell_type": "code",
   "execution_count": 13,
   "id": "249f87db",
   "metadata": {},
   "outputs": [
    {
     "data": {
      "text/plain": [
       "<AxesSubplot:xlabel='salary', ylabel='Density'>"
      ]
     },
     "execution_count": 13,
     "metadata": {},
     "output_type": "execute_result"
    },
    {
     "data": {
      "image/png": "[encoded data removed]",
      "text/plain": [
       "<Figure size 640x480 with 1 Axes>"
      ]
     },
     "metadata": {},
     "output_type": "display_data"
    }
   ],
   "source": [
    "# create plot for salary column\n",
    "sns.kdeplot(salary_df[\"salary\"], shade=True)"
   ]
  },
  {
   "cell_type": "markdown",
   "id": "007c1a63",
   "metadata": {},
   "source": [
    "##### Insights:\n",
    "\n",
    "Salaries are most commonly just under $100,000, though most fall in the range of 75k to 125k."
   ]
  },
  {
   "cell_type": "markdown",
   "id": "7306d6d7",
   "metadata": {},
   "source": [
    "### Plot for 'industry_experience' column"
   ]
  },
  {
   "cell_type": "code",
   "execution_count": 14,
   "id": "5f4e434d",
   "metadata": {},
   "outputs": [
    {
     "data": {
      "text/plain": [
       "array([ 0,  2,  1,  5,  3,  4,  6,  8, 10, 11,  9,  7, 12, 15, 19, 14, 13,\n",
       "       16, 20, 17, 18, 23, 21, 24, 25, 22, 33, 31, 29, 28, 30, 32, 35, 26,\n",
       "       27, 34])"
      ]
     },
     "execution_count": 14,
     "metadata": {},
     "output_type": "execute_result"
    }
   ],
   "source": [
    "salary_df.industry_experience.unique()"
   ]
  },
  {
   "cell_type": "code",
   "execution_count": 15,
   "id": "59d08e86",
   "metadata": {
    "scrolled": false
   },
   "outputs": [
    {
     "data": {
      "text/plain": [
       "{'bodies': [<matplotlib.collections.PolyCollection at 0x7f90bb8c2920>],\n",
       " 'cmaxes': <matplotlib.collections.LineCollection at 0x7f90bb8c28c0>,\n",
       " 'cmins': <matplotlib.collections.LineCollection at 0x7f90bb8c2fb0>,\n",
       " 'cbars': <matplotlib.collections.LineCollection at 0x7f90bb8c3370>,\n",
       " 'cmedians': <matplotlib.collections.LineCollection at 0x7f90bb8c3730>}"
      ]
     },
     "execution_count": 15,
     "metadata": {},
     "output_type": "execute_result"
    },
    {
     "data": {
      "image/png": "[encoded data removed]",
      "text/plain": [
       "<Figure size 640x480 with 1 Axes>"
      ]
     },
     "metadata": {},
     "output_type": "display_data"
    }
   ],
   "source": [
    "# create plot for industry experience column\n",
    "plt.violinplot(salary_df[\"industry_experience\"], showmedians=True)"
   ]
  },
  {
   "cell_type": "markdown",
   "id": "029da89d",
   "metadata": {},
   "source": [
    "##### Insights:\n",
    "\n",
    "The industry experience median is around 19 or so, with the most values around 20, evenly decreasing toward around 3 and 27, bumping slightly at the 2-1 range, and remaining fairly smooth between 27 and 35."
   ]
  },
  {
   "cell_type": "markdown",
   "id": "c29d3747",
   "metadata": {},
   "source": [
    "### Plot for 'education' column"
   ]
  },
  {
   "cell_type": "code",
   "execution_count": 16,
   "id": "949e6d26",
   "metadata": {
    "scrolled": false
   },
   "outputs": [
    {
     "name": "stderr",
     "output_type": "stream",
     "text": [
      "/Users/brianwilliams/anaconda3/envs/eda/lib/python3.10/site-packages/seaborn/_decorators.py:36: FutureWarning: Pass the following variable as a keyword arg: x. From version 0.12, the only valid positional argument will be `data`, and passing other arguments without an explicit keyword will result in an error or misinterpretation.\n",
      "  warnings.warn(\n"
     ]
    },
    {
     "data": {
      "text/plain": [
       "<AxesSubplot:xlabel='education', ylabel='count'>"
      ]
     },
     "execution_count": 16,
     "metadata": {},
     "output_type": "execute_result"
    },
    {
     "data": {
      "image/png": "[encoded data removed]",
      "text/plain": [
       "<Figure size 640x480 with 1 Axes>"
      ]
     },
     "metadata": {},
     "output_type": "display_data"
    }
   ],
   "source": [
    "# create plot for education levels\n",
    "sns.countplot(salary_df[\"education\"])"
   ]
  },
  {
   "cell_type": "markdown",
   "id": "643cb6f5",
   "metadata": {},
   "source": [
    "##### Insights:\n",
    "\n",
    "The vast majority have a bachelor's degree, and only slightly less have a masters.  There is a significant dropoff at \"some college\", and only a small handfull only have a highschool degree.\n",
    "\n",
    "\n",
    "### Plot for 'gender' column"
   ]
  },
  {
   "cell_type": "code",
   "execution_count": 17,
   "id": "a6d10d1d",
   "metadata": {},
   "outputs": [
    {
     "data": {
      "text/plain": [
       "array(['Male', 'Female'], dtype=object)"
      ]
     },
     "execution_count": 17,
     "metadata": {},
     "output_type": "execute_result"
    }
   ],
   "source": [
    "salary_df.gender.unique()"
   ]
  },
  {
   "cell_type": "code",
   "execution_count": 18,
   "id": "1ce546d1",
   "metadata": {},
   "outputs": [
    {
     "data": {
      "text/plain": [
       "([<matplotlib.patches.Wedge at 0x7f90b827c7f0>,\n",
       "  <matplotlib.patches.Wedge at 0x7f90b827cf10>],\n",
       " [Text(-0.0014264032442564624, 1.0999990751695135, 'Male'),\n",
       "  Text(0.0014264032442563278, -1.0999990751695135, 'Female')],\n",
       " [Text(-0.0007780381332307976, 0.5999994955470073, '50.04%'),\n",
       "  Text(0.0007780381332307241, -0.5999994955470073, '49.96%')])"
      ]
     },
     "execution_count": 18,
     "metadata": {},
     "output_type": "execute_result"
    },
    {
     "data": {
      "image/png": "[encoded data removed]",
      "text/plain": [
       "<Figure size 640x480 with 1 Axes>"
      ]
     },
     "metadata": {},
     "output_type": "display_data"
    }
   ],
   "source": [
    "# create plot for gender column\n",
    "plt.pie(salary_df[\"gender\"].value_counts(), labels = [\"Male\", \"Female\"], autopct=\"%1.2f%%\")"
   ]
  },
  {
   "cell_type": "markdown",
   "id": "aafd3de1",
   "metadata": {},
   "source": [
    "##### Insights:\n",
    "\n",
    "The samples used have an almost equal amount of male and female subjects."
   ]
  },
  {
   "cell_type": "markdown",
   "id": "26bbf342",
   "metadata": {},
   "source": [
    "## Part 2 - Summary Statistics"
   ]
  },
  {
   "cell_type": "markdown",
   "id": "6e8d8bed",
   "metadata": {},
   "source": [
    "### Step 1 - Review Summary Statistics"
   ]
  },
  {
   "cell_type": "code",
   "execution_count": 19,
   "id": "640c3a9a",
   "metadata": {},
   "outputs": [],
   "source": [
    "################################### TO DO #########################################\n",
    "####### FOLLOW PROJECT INSTRUCTIONS TO COMPLETE THIS STEP IN THE CELLS BELOW ######"
   ]
  },
  {
   "cell_type": "markdown",
   "id": "a8397d6c",
   "metadata": {},
   "source": [
    "- mean\n",
    "> The average value of the data set -- ie the product of adding together all the values and dividing them by the number of values added.\n",
    "- median\n",
    "> The value in the physical middle of a list of data, when ordered from least to greatest\n",
    "- mode\n",
    "> The value that occurs the most frequently within a data set.\n",
    "- central tendency\n",
    "> The descriptive summary of a data set, often including the mean, median, and mode\n",
    "- distribution\n",
    "> The shape of the graph when all values are plotted on the graph is that graph's distribution -- uesed to show numerical frequency\n",
    "- variance\n",
    "> Variance measures the dispersion around the mean -- ie how far each data point is from the mean of that data\n",
    "- standard deviation\n",
    "> The square root of the data set's variance -- ie how dispersed the entire data is in relation to the mean"
   ]
  },
  {
   "cell_type": "markdown",
   "id": "071813ce",
   "metadata": {},
   "source": [
    "### Step 2 - Find  & Report Summary Statistics For Numeric Variables"
   ]
  },
  {
   "cell_type": "code",
   "execution_count": 20,
   "id": "27de12ee",
   "metadata": {},
   "outputs": [],
   "source": [
    "################################### TO DO #########################################\n",
    "####### FOLLOW PROJECT INSTRUCTIONS TO COMPLETE THIS STEP IN THE CELLS BELOW ######"
   ]
  },
  {
   "cell_type": "markdown",
   "id": "8fbe124c",
   "metadata": {},
   "source": [
    "#### Age Summary Statistics"
   ]
  },
  {
   "cell_type": "code",
   "execution_count": 21,
   "id": "dcfe2a15",
   "metadata": {},
   "outputs": [
    {
     "data": {
      "text/plain": [
       "count    25439.000000\n",
       "mean        46.219466\n",
       "std         12.758662\n",
       "min         18.000000\n",
       "25%         36.000000\n",
       "50%         47.000000\n",
       "75%         57.000000\n",
       "max         67.000000\n",
       "Name: age, dtype: float64"
      ]
     },
     "execution_count": 21,
     "metadata": {},
     "output_type": "execute_result"
    }
   ],
   "source": [
    "# use .describe to get summary statistics for age column\n",
    "salary_df.age.describe()"
   ]
  },
  {
   "cell_type": "code",
   "execution_count": 22,
   "id": "7f9a7b6f",
   "metadata": {},
   "outputs": [
    {
     "data": {
      "text/plain": [
       "<AxesSubplot:title={'center':'Distribution of Age Among Managers'}, xlabel='age'>"
      ]
     },
     "execution_count": 22,
     "metadata": {},
     "output_type": "execute_result"
    },
    {
     "data": {
      "image/png": "[encoded data removed]",
      "text/plain": [
       "<Figure size 640x480 with 1 Axes>"
      ]
     },
     "metadata": {},
     "output_type": "display_data"
    }
   ],
   "source": [
    "# create boxplot to visualize age summary statistics\n",
    "plt.title(\"Distribution of Age Among Managers\")\n",
    "sns.boxplot(x=salary_df[\"age\"])"
   ]
  },
  {
   "cell_type": "code",
   "execution_count": null,
   "id": "09b9d170",
   "metadata": {},
   "outputs": [],
   "source": []
  },
  {
   "cell_type": "markdown",
   "id": "bac0a897",
   "metadata": {},
   "source": [
    "## - age **mean**\n",
    "> The mean age is 46.2\n",
    "- age **median**\n",
    "> The median age is 47\n",
    "- age **minimum**\n",
    "> The minimum age is 18\n",
    "- age **maximum**\n",
    "> The maximum age is 67\n",
    "- age **standard deviation**\n",
    "> The standard deviation is 12.8"
   ]
  },
  {
   "cell_type": "markdown",
   "id": "0cf267f9",
   "metadata": {},
   "source": [
    "###### Reflection: How did mean and median differ above? Why do you think that is?\n",
    "\n",
    "They're actually quite close, with less than a year between them.  I believe this is that the majority of the data points are grouped fairly tightly around these values, making them similar."
   ]
  },
  {
   "cell_type": "markdown",
   "id": "6168d7c8",
   "metadata": {},
   "source": [
    "#### Salary Summary Statistics"
   ]
  },
  {
   "cell_type": "code",
   "execution_count": 23,
   "id": "5ec63d65",
   "metadata": {},
   "outputs": [
    {
     "data": {
      "text/plain": [
       "count     25439.000000\n",
       "mean     101416.000070\n",
       "std       26136.687123\n",
       "min       28054.080000\n",
       "25%       84621.294048\n",
       "50%      101148.480000\n",
       "75%      119828.075728\n",
       "max      175223.321900\n",
       "Name: salary, dtype: float64"
      ]
     },
     "execution_count": 23,
     "metadata": {},
     "output_type": "execute_result"
    }
   ],
   "source": [
    "# use .describe to get summary statistics for salary\n",
    "salary_df.salary.describe()"
   ]
  },
  {
   "cell_type": "code",
   "execution_count": 24,
   "id": "37118ff1",
   "metadata": {
    "scrolled": false
   },
   "outputs": [
    {
     "data": {
      "text/plain": [
       "<AxesSubplot:title={'center':'Distribution of Salaries Among Managers'}, xlabel='salary'>"
      ]
     },
     "execution_count": 24,
     "metadata": {},
     "output_type": "execute_result"
    },
    {
     "data": {
      "image/png": "[encoded data removed]",
      "text/plain": [
       "<Figure size 640x480 with 1 Axes>"
      ]
     },
     "metadata": {},
     "output_type": "display_data"
    }
   ],
   "source": [
    "# create boxplot to visualize salary summary statistics\n",
    "plt.title(\"Distribution of Salaries Among Managers\")\n",
    "sns.boxplot(x=salary_df[\"salary\"])"
   ]
  },
  {
   "cell_type": "markdown",
   "id": "f7c9ff81",
   "metadata": {},
   "source": [
    "- Salary **mean**\n",
    "> The mean salary is 101416\n",
    "- Salary **median**\n",
    "> The median salary is 101148\n",
    "- Salary **minimum**\n",
    "> The minimum salary is 28054\n",
    "- Salary **maximum**\n",
    "> The maximum salary is 175223\n",
    "- Salary **standard deviation**\n",
    "> The standard deviation is 26136"
   ]
  },
  {
   "cell_type": "markdown",
   "id": "90bbbe7e",
   "metadata": {},
   "source": [
    "###### Reflection: How did mean and median differ above? Why do you think that is?\n",
    "\n",
    "Once again, the median and the mean are quite close, and again this is because the meat of the data points are more tightly grouped around these values, with much fewer values on the periphery."
   ]
  },
  {
   "cell_type": "markdown",
   "id": "64f1c14a",
   "metadata": {},
   "source": [
    "### Step 3 - Find Salary Summary Statistics By Industry"
   ]
  },
  {
   "cell_type": "code",
   "execution_count": 25,
   "id": "bb5ccb52",
   "metadata": {},
   "outputs": [],
   "source": [
    "################################### TO DO #########################################\n",
    "####### FOLLOW PROJECT INSTRUCTIONS TO COMPLETE THIS STEP IN THE CELLS BELOW ######"
   ]
  },
  {
   "cell_type": "code",
   "execution_count": 26,
   "id": "c7e92c1d",
   "metadata": {},
   "outputs": [
    {
     "data": {
      "text/html": [
       "<div>\n",
       "<style scoped>\n",
       "    .dataframe tbody tr th:only-of-type {\n",
       "        vertical-align: middle;\n",
       "    }\n",
       "\n",
       "    .dataframe tbody tr th {\n",
       "        vertical-align: top;\n",
       "    }\n",
       "\n",
       "    .dataframe thead th {\n",
       "        text-align: right;\n",
       "    }\n",
       "</style>\n",
       "<table border=\"1\" class=\"dataframe\">\n",
       "  <thead>\n",
       "    <tr style=\"text-align: right;\">\n",
       "      <th></th>\n",
       "      <th>count</th>\n",
       "      <th>mean</th>\n",
       "      <th>std</th>\n",
       "      <th>min</th>\n",
       "      <th>25%</th>\n",
       "      <th>50%</th>\n",
       "      <th>75%</th>\n",
       "      <th>max</th>\n",
       "    </tr>\n",
       "    <tr>\n",
       "      <th>industry</th>\n",
       "      <th></th>\n",
       "      <th></th>\n",
       "      <th></th>\n",
       "      <th></th>\n",
       "      <th></th>\n",
       "      <th></th>\n",
       "      <th></th>\n",
       "      <th></th>\n",
       "    </tr>\n",
       "  </thead>\n",
       "  <tbody>\n",
       "    <tr>\n",
       "      <th>business</th>\n",
       "      <td>6367.0</td>\n",
       "      <td>98296.471387</td>\n",
       "      <td>24822.138864</td>\n",
       "      <td>29340.67968</td>\n",
       "      <td>82482.816000</td>\n",
       "      <td>98200.01048</td>\n",
       "      <td>116110.250464</td>\n",
       "      <td>159030.78048</td>\n",
       "    </tr>\n",
       "    <tr>\n",
       "      <th>finance</th>\n",
       "      <td>6383.0</td>\n",
       "      <td>102838.541755</td>\n",
       "      <td>26344.729075</td>\n",
       "      <td>30747.52224</td>\n",
       "      <td>86224.406400</td>\n",
       "      <td>102692.33568</td>\n",
       "      <td>122237.832000</td>\n",
       "      <td>166370.21852</td>\n",
       "    </tr>\n",
       "    <tr>\n",
       "      <th>healthcare</th>\n",
       "      <td>6307.0</td>\n",
       "      <td>94767.547447</td>\n",
       "      <td>23696.008298</td>\n",
       "      <td>28054.08000</td>\n",
       "      <td>79538.185000</td>\n",
       "      <td>94728.96000</td>\n",
       "      <td>112058.784000</td>\n",
       "      <td>152775.98600</td>\n",
       "    </tr>\n",
       "    <tr>\n",
       "      <th>technology</th>\n",
       "      <td>6382.0</td>\n",
       "      <td>109675.753478</td>\n",
       "      <td>27127.404233</td>\n",
       "      <td>32704.34400</td>\n",
       "      <td>92223.969112</td>\n",
       "      <td>109130.17575</td>\n",
       "      <td>129758.177182</td>\n",
       "      <td>175223.32190</td>\n",
       "    </tr>\n",
       "  </tbody>\n",
       "</table>\n",
       "</div>"
      ],
      "text/plain": [
       "             count           mean           std          min           25%  \\\n",
       "industry                                                                     \n",
       "business    6367.0   98296.471387  24822.138864  29340.67968  82482.816000   \n",
       "finance     6383.0  102838.541755  26344.729075  30747.52224  86224.406400   \n",
       "healthcare  6307.0   94767.547447  23696.008298  28054.08000  79538.185000   \n",
       "technology  6382.0  109675.753478  27127.404233  32704.34400  92223.969112   \n",
       "\n",
       "                     50%            75%           max  \n",
       "industry                                               \n",
       "business     98200.01048  116110.250464  159030.78048  \n",
       "finance     102692.33568  122237.832000  166370.21852  \n",
       "healthcare   94728.96000  112058.784000  152775.98600  \n",
       "technology  109130.17575  129758.177182  175223.32190  "
      ]
     },
     "execution_count": 26,
     "metadata": {},
     "output_type": "execute_result"
    }
   ],
   "source": [
    "# use groupby() and describe() to get salary summary statistics by industry\n",
    "salary_df.salary.groupby(salary_df.industry).describe()"
   ]
  },
  {
   "cell_type": "code",
   "execution_count": 27,
   "id": "a364806e",
   "metadata": {},
   "outputs": [
    {
     "data": {
      "text/plain": [
       "<AxesSubplot:title={'center':'Distribution of Salaries Across Industries'}, xlabel='salary', ylabel='industry'>"
      ]
     },
     "execution_count": 27,
     "metadata": {},
     "output_type": "execute_result"
    },
    {
     "data": {
      "image/png": "[encoded data removed]",
      "text/plain": [
       "<Figure size 640x480 with 1 Axes>"
      ]
     },
     "metadata": {},
     "output_type": "display_data"
    }
   ],
   "source": [
    "# create visualization with multiple boxplots to show salary summary statistics by industry\n",
    "\n",
    "plt.title(\"Distribution of Salaries Across Industries\")\n",
    "plt.xlabel(\"Industries\")\n",
    "plt.ylabel(\"Saleries\")\n",
    "\n",
    "sns.boxplot(data=salary_df, x=\"salary\", y=\"industry\")"
   ]
  },
  {
   "cell_type": "markdown",
   "id": "fb0a29d8",
   "metadata": {},
   "source": [
    "##### Insights:\n",
    "\n",
    "Overall, the highest salaries belong to technology, both in terms of how the data is clustered as well as highest singular value.  Healthcare and buisiness both share similar groupings, although buisiness is clustered slightly higher (although has a lower top value).  Finance fit confortably in between tech and buisiness."
   ]
  },
  {
   "cell_type": "markdown",
   "id": "9f54ff3c",
   "metadata": {},
   "source": [
    "### Step 4 - Find Salary Summary Statistics By Education"
   ]
  },
  {
   "cell_type": "code",
   "execution_count": 28,
   "id": "546016eb",
   "metadata": {},
   "outputs": [],
   "source": [
    "################################### TO DO #########################################\n",
    "####### FOLLOW PROJECT INSTRUCTIONS TO COMPLETE THIS STEP IN THE CELLS BELOW ######"
   ]
  },
  {
   "cell_type": "code",
   "execution_count": 29,
   "id": "5878a471",
   "metadata": {},
   "outputs": [
    {
     "data": {
      "text/html": [
       "<div>\n",
       "<style scoped>\n",
       "    .dataframe tbody tr th:only-of-type {\n",
       "        vertical-align: middle;\n",
       "    }\n",
       "\n",
       "    .dataframe tbody tr th {\n",
       "        vertical-align: top;\n",
       "    }\n",
       "\n",
       "    .dataframe thead th {\n",
       "        text-align: right;\n",
       "    }\n",
       "</style>\n",
       "<table border=\"1\" class=\"dataframe\">\n",
       "  <thead>\n",
       "    <tr style=\"text-align: right;\">\n",
       "      <th></th>\n",
       "      <th>count</th>\n",
       "      <th>mean</th>\n",
       "      <th>std</th>\n",
       "      <th>min</th>\n",
       "      <th>25%</th>\n",
       "      <th>50%</th>\n",
       "      <th>75%</th>\n",
       "      <th>max</th>\n",
       "    </tr>\n",
       "    <tr>\n",
       "      <th>education</th>\n",
       "      <th></th>\n",
       "      <th></th>\n",
       "      <th></th>\n",
       "      <th></th>\n",
       "      <th></th>\n",
       "      <th></th>\n",
       "      <th></th>\n",
       "      <th></th>\n",
       "    </tr>\n",
       "  </thead>\n",
       "  <tbody>\n",
       "    <tr>\n",
       "      <th>bachelors degree</th>\n",
       "      <td>10972.0</td>\n",
       "      <td>100710.905311</td>\n",
       "      <td>20960.707146</td>\n",
       "      <td>40962.240</td>\n",
       "      <td>85154.097000</td>\n",
       "      <td>98829.004800</td>\n",
       "      <td>115799.14680</td>\n",
       "      <td>159790.23450</td>\n",
       "    </tr>\n",
       "    <tr>\n",
       "      <th>high school</th>\n",
       "      <td>781.0</td>\n",
       "      <td>47602.924607</td>\n",
       "      <td>10556.975508</td>\n",
       "      <td>28054.080</td>\n",
       "      <td>39832.128000</td>\n",
       "      <td>46255.446000</td>\n",
       "      <td>53930.62080</td>\n",
       "      <td>78486.86520</td>\n",
       "    </tr>\n",
       "    <tr>\n",
       "      <th>masters degree</th>\n",
       "      <td>8979.0</td>\n",
       "      <td>115583.500303</td>\n",
       "      <td>21594.533546</td>\n",
       "      <td>68037.024</td>\n",
       "      <td>98782.553760</td>\n",
       "      <td>113936.908800</td>\n",
       "      <td>131988.10416</td>\n",
       "      <td>175223.32190</td>\n",
       "    </tr>\n",
       "    <tr>\n",
       "      <th>some college</th>\n",
       "      <td>4707.0</td>\n",
       "      <td>84962.702227</td>\n",
       "      <td>24994.963474</td>\n",
       "      <td>29030.208</td>\n",
       "      <td>68385.261696</td>\n",
       "      <td>84824.902426</td>\n",
       "      <td>103041.44640</td>\n",
       "      <td>149241.93034</td>\n",
       "    </tr>\n",
       "  </tbody>\n",
       "</table>\n",
       "</div>"
      ],
      "text/plain": [
       "                    count           mean           std        min  \\\n",
       "education                                                           \n",
       "bachelors degree  10972.0  100710.905311  20960.707146  40962.240   \n",
       "high school         781.0   47602.924607  10556.975508  28054.080   \n",
       "masters degree     8979.0  115583.500303  21594.533546  68037.024   \n",
       "some college       4707.0   84962.702227  24994.963474  29030.208   \n",
       "\n",
       "                           25%            50%           75%           max  \n",
       "education                                                                  \n",
       "bachelors degree  85154.097000   98829.004800  115799.14680  159790.23450  \n",
       "high school       39832.128000   46255.446000   53930.62080   78486.86520  \n",
       "masters degree    98782.553760  113936.908800  131988.10416  175223.32190  \n",
       "some college      68385.261696   84824.902426  103041.44640  149241.93034  "
      ]
     },
     "execution_count": 29,
     "metadata": {},
     "output_type": "execute_result"
    }
   ],
   "source": [
    "# use groupby() and describe() to get salary summary statistics by education level\n",
    "salary_df.salary.groupby(salary_df.education).describe()"
   ]
  },
  {
   "cell_type": "code",
   "execution_count": 30,
   "id": "acc802f2",
   "metadata": {},
   "outputs": [
    {
     "data": {
      "text/plain": [
       "<AxesSubplot:title={'center':'Distribution of Salaries Across Education Level'}, xlabel='salary', ylabel='education'>"
      ]
     },
     "execution_count": 30,
     "metadata": {},
     "output_type": "execute_result"
    },
    {
     "data": {
      "image/png": "[encoded data removed]",
      "text/plain": [
       "<Figure size 640x480 with 1 Axes>"
      ]
     },
     "metadata": {},
     "output_type": "display_data"
    }
   ],
   "source": [
    "# create visualization with multiple boxplots to show salary summary statistics by education level\n",
    "\n",
    "plt.title(\"Distribution of Salaries Across Education Level\")\n",
    "plt.xlabel(\"Salary\")\n",
    "plt.ylabel(\"Maximum Education Level Reached\")\n",
    "\n",
    "sns.boxplot(data=salary_df, x=\"salary\", y=\"education\")"
   ]
  },
  {
   "cell_type": "markdown",
   "id": "5bb88719",
   "metadata": {},
   "source": [
    "##### Insights:\n",
    "\n",
    "There is a fair degree of corelation between a higher education level and a higher salary.  Those with only a highschool education have a drastically lower salary than almost any other educational degree (although the low ends are similar between highschool, some college, and a bechelor's degree).  There's still quite a bit of overlap between the higher 3 education levels, but a higher education level unquestionably corelates to a higher salary within this data set."
   ]
  },
  {
   "cell_type": "markdown",
   "id": "d90a7570",
   "metadata": {},
   "source": [
    "### Step 5 - Find Salary Summary Statistics by Gender"
   ]
  },
  {
   "cell_type": "code",
   "execution_count": 31,
   "id": "d7940bfb",
   "metadata": {},
   "outputs": [],
   "source": [
    "################################### TO DO #########################################\n",
    "####### FOLLOW PROJECT INSTRUCTIONS TO COMPLETE THIS STEP IN THE CELLS BELOW ######"
   ]
  },
  {
   "cell_type": "code",
   "execution_count": 32,
   "id": "5b5cb514",
   "metadata": {},
   "outputs": [
    {
     "data": {
      "text/plain": [
       "<AxesSubplot:title={'center':'Distribution of Salaries Across Gender'}, xlabel='salary', ylabel='gender'>"
      ]
     },
     "execution_count": 32,
     "metadata": {},
     "output_type": "execute_result"
    },
    {
     "data": {
      "image/png": "[encoded data removed]",
      "text/plain": [
       "<Figure size 640x480 with 1 Axes>"
      ]
     },
     "metadata": {},
     "output_type": "display_data"
    }
   ],
   "source": [
    "# use groupby() and describe() to get salary summary statistics by gender\n",
    "plt.title(\"Distribution of Salaries Across Gender\")\n",
    "plt.xlabel(\"Salary\")\n",
    "plt.ylabel(\"Gender\")\n",
    "\n",
    "sns.boxplot(data=salary_df, x=\"salary\", y=\"gender\")"
   ]
  },
  {
   "cell_type": "code",
   "execution_count": 33,
   "id": "e5d6b7b6",
   "metadata": {},
   "outputs": [],
   "source": [
    "# create visualization with multiple boxplots to show summary statistics by gender"
   ]
  },
  {
   "cell_type": "markdown",
   "id": "beb4f03a",
   "metadata": {},
   "source": [
    "##### Insights:\n",
    "\n",
    "Salaries are distributed on a lower level for women than they are for men, even on the extreme lower end.  At almost all points, there is around a 15k difference between the male and female box plots.  In terms of individual data, although most salaries are clustered around the middle of the data set, the only real outliers are on the extreme low end."
   ]
  },
  {
   "cell_type": "markdown",
   "id": "f8ba0017",
   "metadata": {},
   "source": [
    "## Part 3 - Looking for Relationships in Data"
   ]
  },
  {
   "cell_type": "markdown",
   "id": "3f336b3c",
   "metadata": {},
   "source": [
    "### Step 1 - Review Useful Tools for Bivariate Relationships"
   ]
  },
  {
   "cell_type": "code",
   "execution_count": 34,
   "id": "76950687",
   "metadata": {},
   "outputs": [],
   "source": [
    "################################### TO DO #########################################\n",
    "####### FOLLOW PROJECT INSTRUCTIONS TO COMPLETE THIS STEP IN THE CELLS BELOW ######"
   ]
  },
  {
   "cell_type": "markdown",
   "id": "ca276bc4",
   "metadata": {},
   "source": [
    "#### Fill in the blanks below with brief explanations of each type of plot listed  \n",
    "\n",
    "- **Categorical Data**\n",
    "> ***Contingency Table***\n",
    ">\n",
    "> A categorical table used to present data in terms of frequency counts between at least two variables.\n",
    ">\n",
    "> ***Clustered Bar Chart***\n",
    ">\n",
    "> A chart used to display multiple data sets over the same category, in order to compare and contrast them.\n",
    "\n",
    "- **Mixed Data**\n",
    "> ***Individual Value Plot***\n",
    ">\n",
    "> A chart that places a single dot per data observation on a plot, often used to frequency in data sets.\n",
    ">\n",
    "> ***Strip Plot***\n",
    ">\n",
    "> A collection of single axis scatter plots\n",
    "\n",
    "- **Quantitative Data**\n",
    "> ***Scatter plots***\n",
    ">\n",
    "> A plot where each dot represents the values for each individual data point"
   ]
  },
  {
   "cell_type": "markdown",
   "id": "4291af48",
   "metadata": {},
   "source": [
    "### Step 2 - Create Bivariate Plots & Tables"
   ]
  },
  {
   "cell_type": "markdown",
   "id": "a1026c3b",
   "metadata": {},
   "source": [
    "In the end of Part 2, you began looking at relationships between variables when you created boxplots which visualized the distribution of salary across different categories. In this step, you will make plots and visualizations to begin looking deeper for patterns and relationships between two variables. "
   ]
  },
  {
   "cell_type": "code",
   "execution_count": 35,
   "id": "2c7334d7",
   "metadata": {},
   "outputs": [],
   "source": [
    "################################### TO DO #########################################\n",
    "####### FOLLOW PROJECT INSTRUCTIONS TO COMPLETE THIS STEP IN THE CELLS BELOW ######"
   ]
  },
  {
   "cell_type": "markdown",
   "id": "4cdb8acb",
   "metadata": {},
   "source": [
    "### Use the Pandas Crosstab() function to compare categorical variables"
   ]
  },
  {
   "cell_type": "markdown",
   "id": "1f2325b9",
   "metadata": {},
   "source": [
    "#### crosstab of gender and education"
   ]
  },
  {
   "cell_type": "code",
   "execution_count": 62,
   "id": "10c27a5b",
   "metadata": {},
   "outputs": [
    {
     "data": {
      "text/html": [
       "<div>\n",
       "<style scoped>\n",
       "    .dataframe tbody tr th:only-of-type {\n",
       "        vertical-align: middle;\n",
       "    }\n",
       "\n",
       "    .dataframe tbody tr th {\n",
       "        vertical-align: top;\n",
       "    }\n",
       "\n",
       "    .dataframe thead th {\n",
       "        text-align: right;\n",
       "    }\n",
       "</style>\n",
       "<table border=\"1\" class=\"dataframe\">\n",
       "  <thead>\n",
       "    <tr style=\"text-align: right;\">\n",
       "      <th>education</th>\n",
       "      <th>bachelors degree</th>\n",
       "      <th>high school</th>\n",
       "      <th>masters degree</th>\n",
       "      <th>some college</th>\n",
       "    </tr>\n",
       "    <tr>\n",
       "      <th>gender</th>\n",
       "      <th></th>\n",
       "      <th></th>\n",
       "      <th></th>\n",
       "      <th></th>\n",
       "    </tr>\n",
       "  </thead>\n",
       "  <tbody>\n",
       "    <tr>\n",
       "      <th>Female</th>\n",
       "      <td>5468</td>\n",
       "      <td>387</td>\n",
       "      <td>4514</td>\n",
       "      <td>2361</td>\n",
       "    </tr>\n",
       "    <tr>\n",
       "      <th>Male</th>\n",
       "      <td>5504</td>\n",
       "      <td>394</td>\n",
       "      <td>4465</td>\n",
       "      <td>2346</td>\n",
       "    </tr>\n",
       "  </tbody>\n",
       "</table>\n",
       "</div>"
      ],
      "text/plain": [
       "education  bachelors degree  high school  masters degree  some college\n",
       "gender                                                                \n",
       "Female                 5468          387            4514          2361\n",
       "Male                   5504          394            4465          2346"
      ]
     },
     "execution_count": 62,
     "metadata": {},
     "output_type": "execute_result"
    }
   ],
   "source": [
    "# use pd.crosstab to count number of managers at each education level, grouped by gender\n",
    "\n",
    "pd.crosstab(index=salary_df[\"gender\"], columns=salary_df[\"education\"])"
   ]
  },
  {
   "cell_type": "markdown",
   "id": "41b10043",
   "metadata": {},
   "source": [
    "##### Insights:\n",
    "\n",
    "There are a very similar levels of education between male and females within this data set.  The largest difference is in the masters degree, but even that is less than 50 people total."
   ]
  },
  {
   "cell_type": "markdown",
   "id": "cd5f6bf8",
   "metadata": {},
   "source": [
    "### Strip plot between age and education"
   ]
  },
  {
   "cell_type": "code",
   "execution_count": 63,
   "id": "88b9e3b6",
   "metadata": {},
   "outputs": [
    {
     "data": {
      "text/plain": [
       "<AxesSubplot:xlabel='age', ylabel='education'>"
      ]
     },
     "execution_count": 63,
     "metadata": {},
     "output_type": "execute_result"
    },
    {
     "data": {
      "image/png": "[encoded data removed]",
      "text/plain": [
       "<Figure size 640x480 with 1 Axes>"
      ]
     },
     "metadata": {},
     "output_type": "display_data"
    }
   ],
   "source": [
    "# create strip plot for age and education\n",
    "sns.stripplot(x=salary_df[\"age\"], y=salary_df[\"education\"])"
   ]
  },
  {
   "cell_type": "markdown",
   "id": "6d5d3c6b",
   "metadata": {},
   "source": [
    "##### Insights:\n",
    "\n",
    "[fill in with your observations from the visualization]"
   ]
  },
  {
   "cell_type": "markdown",
   "id": "1e962141",
   "metadata": {},
   "source": [
    "### Scatterplot for age and salary"
   ]
  },
  {
   "cell_type": "code",
   "execution_count": 38,
   "id": "714580a6",
   "metadata": {},
   "outputs": [],
   "source": [
    "# create scatterplot for age and salary"
   ]
  },
  {
   "cell_type": "markdown",
   "id": "30f84d39",
   "metadata": {},
   "source": [
    "##### Insights:\n",
    "\n",
    "[fill in with your observations from the visualization]"
   ]
  },
  {
   "cell_type": "markdown",
   "id": "ec9eed9d",
   "metadata": {},
   "source": [
    "### Scatterplot for industry experience and salary"
   ]
  },
  {
   "cell_type": "code",
   "execution_count": 39,
   "id": "4e977c1e",
   "metadata": {
    "scrolled": true
   },
   "outputs": [],
   "source": [
    "# create scatterplot for industry experience and salary"
   ]
  },
  {
   "cell_type": "markdown",
   "id": "9b0dc883",
   "metadata": {},
   "source": [
    "##### Insights:\n",
    "\n",
    "[fill in with your observations from the visualization]"
   ]
  },
  {
   "cell_type": "markdown",
   "id": "e748463c",
   "metadata": {},
   "source": [
    "### Step 3 - Pick Two More Bivariate Relationships to Visualize"
   ]
  },
  {
   "cell_type": "code",
   "execution_count": 40,
   "id": "e36e82c9",
   "metadata": {},
   "outputs": [],
   "source": [
    "################################### TO DO #########################################\n",
    "####### FOLLOW PROJECT INSTRUCTIONS TO COMPLETE THIS STEP IN THE CELLS BELOW ######"
   ]
  },
  {
   "cell_type": "code",
   "execution_count": 41,
   "id": "cb5d3917",
   "metadata": {},
   "outputs": [],
   "source": [
    "# create 1st visualization for bivariate relationship of your choice"
   ]
  },
  {
   "cell_type": "code",
   "execution_count": 42,
   "id": "439513fe",
   "metadata": {},
   "outputs": [],
   "source": [
    "# create 2nd visualization for bivariate relationship of your choice"
   ]
  },
  {
   "cell_type": "markdown",
   "id": "97feb3bb",
   "metadata": {},
   "source": [
    "## Part 4 - Correlation & Hypothesis Testing"
   ]
  },
  {
   "cell_type": "markdown",
   "id": "73116470",
   "metadata": {},
   "source": [
    "### Step 1 - Review Correlation"
   ]
  },
  {
   "cell_type": "code",
   "execution_count": 43,
   "id": "31b3e5cb",
   "metadata": {},
   "outputs": [],
   "source": [
    "################################### TO DO #########################################\n",
    "####### FOLLOW PROJECT INSTRUCTIONS TO COMPLETE THIS STEP IN THE CELLS BELOW ######"
   ]
  },
  {
   "cell_type": "markdown",
   "id": "7cc9f053",
   "metadata": {},
   "source": [
    "#### Fill in blanks with brief description of the following terms:\n",
    "  \n",
    "  \n",
    "- **Correlation**\n",
    "> ***[...]***\n",
    "\n",
    "- **Correlation Coefficient**\n",
    ">***[...]***"
   ]
  },
  {
   "cell_type": "markdown",
   "id": "aa458808",
   "metadata": {},
   "source": [
    "### Step 2 - Review Hypothesis Testing & P-Value"
   ]
  },
  {
   "cell_type": "code",
   "execution_count": 44,
   "id": "9ef16a28",
   "metadata": {},
   "outputs": [],
   "source": [
    "################################### TO DO #########################################\n",
    "####### FOLLOW PROJECT INSTRUCTIONS TO COMPLETE THIS STEP IN THE CELLS BELOW ######"
   ]
  },
  {
   "cell_type": "markdown",
   "id": "72372aa0",
   "metadata": {},
   "source": [
    "#### Fill in blanks with brief description of the following terms:\n",
    "\n",
    "- **Hypothesis**\n",
    "> ***[...]***\n",
    "\n",
    "- **Null Hypothesis**\n",
    "> ***[...]***\n",
    "\n",
    "- **P-Value**\n",
    "> ***[...]***"
   ]
  },
  {
   "cell_type": "markdown",
   "id": "70d87c77",
   "metadata": {},
   "source": [
    "### Step 3 - Use Pearsonr & Spearmanr To Answer Questions About Correlation and P-Values"
   ]
  },
  {
   "cell_type": "markdown",
   "id": "a8eb3063",
   "metadata": {},
   "source": [
    "<h3 style='color:red;'> First, load 'salary_numeric.csv' - where education has been re-expressed as numeric variables.</h3>"
   ]
  },
  {
   "cell_type": "code",
   "execution_count": 45,
   "id": "39f2c28a",
   "metadata": {},
   "outputs": [],
   "source": [
    "# load salary_numeric.csv into dataframe where education levels have been re-expressed as numeric"
   ]
  },
  {
   "cell_type": "code",
   "execution_count": 46,
   "id": "2687b718",
   "metadata": {},
   "outputs": [],
   "source": [
    "################################### TO DO #########################################\n",
    "####### FOLLOW PROJECT INSTRUCTIONS TO COMPLETE THIS STEP IN THE CELLS BELOW ######"
   ]
  },
  {
   "cell_type": "code",
   "execution_count": 47,
   "id": "e437288d",
   "metadata": {},
   "outputs": [],
   "source": [
    "# import pearson and spearmanr methods from scipy.stats library"
   ]
  },
  {
   "cell_type": "markdown",
   "id": "5b412a9b",
   "metadata": {},
   "source": [
    "### What is the correlation between salary and education?"
   ]
  },
  {
   "cell_type": "markdown",
   "id": "b5695c8a",
   "metadata": {},
   "source": [
    "#### Your Hypothesis = [...]"
   ]
  },
  {
   "cell_type": "code",
   "execution_count": 48,
   "id": "b92e526e",
   "metadata": {},
   "outputs": [],
   "source": [
    "# calculate correlation and pvalue of salary and education with spearmanr method"
   ]
  },
  {
   "cell_type": "markdown",
   "id": "e0b33fa8",
   "metadata": {},
   "source": [
    "[interpret result]"
   ]
  },
  {
   "cell_type": "markdown",
   "id": "0b1ab9f0",
   "metadata": {},
   "source": [
    "#### Are these results statistically significant? How do you know?"
   ]
  },
  {
   "cell_type": "markdown",
   "id": "6dbbbeac",
   "metadata": {},
   "source": [
    "[answer]"
   ]
  },
  {
   "cell_type": "markdown",
   "id": "a05c6a59",
   "metadata": {},
   "source": [
    "### What is the correlation between salary and age?"
   ]
  },
  {
   "cell_type": "markdown",
   "id": "bd65d66c",
   "metadata": {},
   "source": [
    "#### Your Hypothesis [...]"
   ]
  },
  {
   "cell_type": "code",
   "execution_count": 49,
   "id": "59cfb7d9",
   "metadata": {},
   "outputs": [],
   "source": [
    "# calculate correlation and pvalue of salary and age with pearsonr method"
   ]
  },
  {
   "cell_type": "markdown",
   "id": "6c37d272",
   "metadata": {},
   "source": [
    "[interpret result]"
   ]
  },
  {
   "cell_type": "markdown",
   "id": "9ddb031a",
   "metadata": {},
   "source": [
    "#### Are these results statistically significant? How do you know? "
   ]
  },
  {
   "cell_type": "markdown",
   "id": "4e0e1e67",
   "metadata": {},
   "source": [
    "[answer]"
   ]
  },
  {
   "cell_type": "markdown",
   "id": "4d0de42f",
   "metadata": {},
   "source": [
    "### What is the correlation between salary and industry experience? "
   ]
  },
  {
   "cell_type": "markdown",
   "id": "a8076452",
   "metadata": {},
   "source": [
    "#### Your Hypothesis = [...]"
   ]
  },
  {
   "cell_type": "code",
   "execution_count": 50,
   "id": "b594af02",
   "metadata": {},
   "outputs": [],
   "source": [
    "# calculate correlation and pvalue of salary and industry experience with pearsonr method"
   ]
  },
  {
   "cell_type": "markdown",
   "id": "1b3ee60a",
   "metadata": {},
   "source": [
    "[interpret result]"
   ]
  },
  {
   "cell_type": "markdown",
   "id": "bc438c97",
   "metadata": {},
   "source": [
    "#### Are these results statistically significant? How do you know?"
   ]
  },
  {
   "cell_type": "markdown",
   "id": "6414b406",
   "metadata": {},
   "source": [
    "[answer]"
   ]
  },
  {
   "cell_type": "markdown",
   "id": "42594762",
   "metadata": {},
   "source": [
    "### Step 4 - Report Findings"
   ]
  },
  {
   "cell_type": "code",
   "execution_count": 51,
   "id": "99864d47",
   "metadata": {},
   "outputs": [],
   "source": [
    "################################### TO DO #########################################\n",
    "####### FOLLOW PROJECT INSTRUCTIONS TO COMPLETE THIS STEP IN THE CELLS BELOW ######"
   ]
  },
  {
   "cell_type": "markdown",
   "id": "bc3d1db6",
   "metadata": {},
   "source": [
    "### What was the null hypothesis for the relationships between education and salary, age and salary, and industry experience and salary?"
   ]
  },
  {
   "cell_type": "markdown",
   "id": "1b0aeec2",
   "metadata": {},
   "source": [
    "[answer]"
   ]
  },
  {
   "cell_type": "markdown",
   "id": "ad7fe6fc",
   "metadata": {},
   "source": [
    "### Can you reject the null hypothesis for any of the relationships you explored above?"
   ]
  },
  {
   "cell_type": "markdown",
   "id": "388dc3b3",
   "metadata": {},
   "source": [
    "[answer]"
   ]
  },
  {
   "cell_type": "markdown",
   "id": "e584db19",
   "metadata": {},
   "source": [
    "## Part 5 - Multivariate Analysis"
   ]
  },
  {
   "cell_type": "markdown",
   "id": "13194851",
   "metadata": {},
   "source": [
    "### Step 1 - Review Types of Multivariate Analysis"
   ]
  },
  {
   "cell_type": "code",
   "execution_count": 52,
   "id": "3c0d78a3",
   "metadata": {},
   "outputs": [],
   "source": [
    "################################### TO DO #########################################\n",
    "####### FOLLOW PROJECT INSTRUCTIONS TO COMPLETE THIS STEP IN THE CELLS BELOW ######"
   ]
  },
  {
   "cell_type": "markdown",
   "id": "7546cd75",
   "metadata": {},
   "source": [
    "#### Fill in the blanks with a brief description of each plot type \n",
    "  \n",
    "- pairplots\n",
    "> [...]\n",
    "- paired scatter plots\n",
    "> [...]\n",
    "- correlation matrix\n",
    "> [...]\n",
    "- heatmap\n",
    "> [...]"
   ]
  },
  {
   "cell_type": "markdown",
   "id": "b661be1d",
   "metadata": {},
   "source": [
    "### Step 2 - Create Pairplots for Dataset"
   ]
  },
  {
   "cell_type": "code",
   "execution_count": 53,
   "id": "e7ee98ae",
   "metadata": {},
   "outputs": [],
   "source": [
    "################################### TO DO #########################################\n",
    "####### FOLLOW PROJECT INSTRUCTIONS TO COMPLETE THIS STEP IN THE CELLS BELOW ######"
   ]
  },
  {
   "cell_type": "markdown",
   "id": "ead32e5e",
   "metadata": {},
   "source": [
    "#### pairplot of whole dataframe"
   ]
  },
  {
   "cell_type": "code",
   "execution_count": 54,
   "id": "1aebe013",
   "metadata": {},
   "outputs": [],
   "source": [
    "# create pairplot of dataframe"
   ]
  },
  {
   "cell_type": "markdown",
   "id": "f7be1281",
   "metadata": {},
   "source": [
    "##### Insights:\n",
    "\n",
    "[fill in with your observations from the visualization]"
   ]
  },
  {
   "cell_type": "markdown",
   "id": "3bc4a804",
   "metadata": {},
   "source": [
    "### Step 3 - Create Other Multivariate Plots"
   ]
  },
  {
   "cell_type": "code",
   "execution_count": 55,
   "id": "4f9c1d0d",
   "metadata": {},
   "outputs": [],
   "source": [
    "################################### TO DO #########################################\n",
    "####### FOLLOW PROJECT INSTRUCTIONS TO COMPLETE THIS STEP IN THE CELLS BELOW ######"
   ]
  },
  {
   "cell_type": "markdown",
   "id": "75dde479",
   "metadata": {},
   "source": [
    "### Correlation matrix"
   ]
  },
  {
   "cell_type": "code",
   "execution_count": 56,
   "id": "01154098",
   "metadata": {},
   "outputs": [],
   "source": [
    "# use .corr() to create correlation matrix"
   ]
  },
  {
   "cell_type": "markdown",
   "id": "dc3253a8",
   "metadata": {},
   "source": [
    "### Heatmap of correlation matrix"
   ]
  },
  {
   "cell_type": "code",
   "execution_count": 57,
   "id": "45bd0d02",
   "metadata": {},
   "outputs": [],
   "source": [
    "# create heatmap visualization of correlation matrix"
   ]
  },
  {
   "cell_type": "markdown",
   "id": "fd541bc6",
   "metadata": {},
   "source": [
    "##### Insights:\n",
    "\n",
    "[fill in with your observations from the visualization]"
   ]
  },
  {
   "cell_type": "markdown",
   "id": "0cae87c2",
   "metadata": {},
   "source": [
    "#### Crosstab of average salary grouped by education and industry"
   ]
  },
  {
   "cell_type": "code",
   "execution_count": 58,
   "id": "4bdd8071",
   "metadata": {},
   "outputs": [],
   "source": [
    "# use pd.crosstab() to calculate mean salary in each industry grouped by education level"
   ]
  },
  {
   "cell_type": "markdown",
   "id": "e6521fe3",
   "metadata": {},
   "source": [
    "#### Heatmap of crosstab of average salary grouped by education and industry"
   ]
  },
  {
   "cell_type": "code",
   "execution_count": 59,
   "id": "7fd953cb",
   "metadata": {},
   "outputs": [],
   "source": [
    "# save above result to new variable"
   ]
  },
  {
   "cell_type": "code",
   "execution_count": 60,
   "id": "3ec99c42",
   "metadata": {},
   "outputs": [],
   "source": [
    "# create heatmap with annotated mean salary in each industry and education level"
   ]
  },
  {
   "cell_type": "markdown",
   "id": "1f4b8d07",
   "metadata": {},
   "source": [
    "##### Insights:\n",
    "\n",
    "[fill in with your observations from the visualization]"
   ]
  },
  {
   "cell_type": "markdown",
   "id": "5357875a",
   "metadata": {},
   "source": [
    "### Step 4 - Report Findings"
   ]
  },
  {
   "cell_type": "code",
   "execution_count": 61,
   "id": "65e1f49a",
   "metadata": {},
   "outputs": [],
   "source": [
    "################################### TO DO #########################################\n",
    "  \n",
    "####### FOLLOW PROJECT INSTRUCTIONS TO COMPLETE THIS STEP IN THE CELLS BELOW ######"
   ]
  },
  {
   "cell_type": "markdown",
   "id": "92917a33",
   "metadata": {},
   "source": [
    "###### Along the way throughout this project, you should have been taking notes on insights from your exploratory data analysis. Take some time in a markdown cell below to write a couple paragraphs summarizing any observations, insights, conclusions, or further questions you have based on the exploratory analysis you conducted this week. "
   ]
  },
  {
   "cell_type": "markdown",
   "id": "84b74615",
   "metadata": {},
   "source": [
    "[...]"
   ]
  },
  {
   "cell_type": "markdown",
   "id": "9272556f",
   "metadata": {},
   "source": [
    "### Step 5 - Submit Project"
   ]
  },
  {
   "cell_type": "markdown",
   "id": "4d42b2c2",
   "metadata": {},
   "source": [
    "###### Push to GitHub, record brief code review video, and share links with Tech Lead and SME. "
   ]
  }
 ],
 "metadata": {
  "kernelspec": {
   "display_name": "Python 3 (ipykernel)",
   "language": "python",
   "name": "python3"
  },
  "language_info": {
   "codemirror_mode": {
    "name": "ipython",
    "version": 3
   },
   "file_extension": ".py",
   "mimetype": "text/x-python",
   "name": "python",
   "nbconvert_exporter": "python",
   "pygments_lexer": "ipython3",
   "version": "3.10.6"
  }
 },
 "nbformat": 4,
 "nbformat_minor": 5
}
